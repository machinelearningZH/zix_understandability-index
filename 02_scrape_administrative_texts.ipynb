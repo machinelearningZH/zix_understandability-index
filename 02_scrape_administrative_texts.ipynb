{
 "cells": [
  {
   "cell_type": "markdown",
   "metadata": {},
   "source": [
    "# Scrape administrative text samples"
   ]
  },
  {
   "cell_type": "markdown",
   "metadata": {},
   "source": [
    "In this step we scrape [news bulletins from our own website](https://www.zh.ch/de/news-uebersicht.html?page=1&orderBy=new). "
   ]
  },
  {
   "cell_type": "markdown",
   "metadata": {},
   "source": [
    "**Imports**"
   ]
  },
  {
   "cell_type": "code",
   "execution_count": 1,
   "metadata": {},
   "outputs": [
    {
     "name": "stdout",
     "output_type": "stream",
     "text": [
      "INFO: Pandarallel will run on 12 workers.\n",
      "INFO: Pandarallel will use standard multiprocessing data transfer (pipe) to transfer data between the main process and workers.\n"
     ]
    }
   ],
   "source": [
    "import pandas as pd\n",
    "from pandarallel import pandarallel\n",
    "\n",
    "pd.options.mode.chained_assignment = None\n",
    "pd.options.display.max_rows = 500\n",
    "pd.options.display.max_seq_items = 500\n",
    "pandarallel.initialize(progress_bar=True)\n",
    "\n",
    "import re\n",
    "from tqdm.notebook import tqdm\n",
    "from bs4 import BeautifulSoup\n",
    "import requests\n",
    "import random\n",
    "import warnings\n",
    "\n",
    "warnings.simplefilter(\"ignore\", category=UserWarning)"
   ]
  },
  {
   "cell_type": "markdown",
   "metadata": {},
   "source": [
    "**Constants and functions**"
   ]
  },
  {
   "cell_type": "code",
   "execution_count": 2,
   "metadata": {},
   "outputs": [],
   "source": [
    "INPUT_DIR = \"_input/\""
   ]
  },
  {
   "cell_type": "markdown",
   "metadata": {},
   "source": [
    "# Scrape news texts from zh.ch"
   ]
  },
  {
   "cell_type": "code",
   "execution_count": 3,
   "metadata": {},
   "outputs": [],
   "source": [
    "def get_sitemap(url):\n",
    "    raw = requests.get(url)\n",
    "    soup = BeautifulSoup(raw.text, \"lxml\")\n",
    "    links = [link.text.strip() for link in soup.find_all(\"loc\")]\n",
    "    return links"
   ]
  },
  {
   "cell_type": "code",
   "execution_count": 4,
   "metadata": {},
   "outputs": [
    {
     "name": "stdout",
     "output_type": "stream",
     "text": [
      "['https://www.zh.ch/de/news-uebersicht/medienmitteilungen.zhweb-sitemap.xml', 'https://www.zh.ch/de/news-uebersicht/mitteilungen.zhweb-sitemap.xml']\n"
     ]
    }
   ],
   "source": [
    "# Get base sitemap from which we get all sub sitemaps.\n",
    "url = \"https://www.zh.ch/bin/zhweb/publish/sitemap.xml\"\n",
    "sitemaps = get_sitemap(url)\n",
    "sitemaps_news = [sitemap for sitemap in sitemaps if \"mitteilungen\" in sitemap]\n",
    "print(sitemaps_news)"
   ]
  },
  {
   "cell_type": "code",
   "execution_count": 5,
   "metadata": {},
   "outputs": [
    {
     "data": {
      "application/vnd.jupyter.widget-view+json": {
       "model_id": "73a6a9ebea574312a5c8e00af2a634df",
       "version_major": 2,
       "version_minor": 0
      },
      "text/plain": [
       "  0%|          | 0/2 [00:00<?, ?it/s]"
      ]
     },
     "metadata": {},
     "output_type": "display_data"
    }
   ],
   "source": [
    "# Fetch links of HTML pages from all sub sitemaps.\n",
    "results = []\n",
    "for sitemap in tqdm(sitemaps_news):\n",
    "    links = get_sitemap(sitemap)\n",
    "    links = [(sitemap, link) for link in links]\n",
    "    results.extend(links)\n",
    "\n",
    "links = [x[1] for x in results]\n",
    "random.shuffle(links)"
   ]
  },
  {
   "cell_type": "code",
   "execution_count": null,
   "metadata": {},
   "outputs": [],
   "source": [
    "corpus = []\n",
    "for link in tqdm(links[:1500]):\n",
    "    raw = requests.get(link)\n",
    "    soup = BeautifulSoup(raw.text, \"lxml\")\n",
    "    lead = soup.find(\"p\", class_=\"atm-lead\")\n",
    "    if lead is None:\n",
    "        continue\n",
    "    content = soup.find(\"div\", class_=\"text aem-GridColumn aem-GridColumn--default--12\")\n",
    "    if content is None:\n",
    "        continue\n",
    "    paragraphs = content.find_all(\"p\", class_=\"atm-paragraph\")\n",
    "    if len(paragraphs) == 0:\n",
    "        continue\n",
    "    paragraphs = [p.get_text() for p in paragraphs]\n",
    "    paragraphs = [lead.get_text()] + paragraphs\n",
    "    final_text = \" \".join(paragraphs)\n",
    "    corpus.append((link, final_text))"
   ]
  },
  {
   "cell_type": "code",
   "execution_count": 7,
   "metadata": {},
   "outputs": [],
   "source": [
    "def clean_text(data):\n",
    "    data = re.sub(r\"\\n\", \" \", data)\n",
    "    data = re.sub(r\"\\s+\", \" \", data)\n",
    "    data = re.sub(r\"\\xa0\", \" \", data)\n",
    "    data = re.sub(r\"-{2,}\", \"\", data)\n",
    "    data = re.sub(r\"\\.{2,}\", \".\", data)\n",
    "    data = data.split(\"Kantonspolizei Zürich Mediendienst\")[0]\n",
    "    return data.strip()"
   ]
  },
  {
   "cell_type": "code",
   "execution_count": 8,
   "metadata": {},
   "outputs": [
    {
     "name": "stdout",
     "output_type": "stream",
     "text": [
      "<class 'pandas.core.frame.DataFrame'>\n",
      "RangeIndex: 1245 entries, 0 to 1244\n",
      "Data columns (total 2 columns):\n",
      " #   Column  Non-Null Count  Dtype \n",
      "---  ------  --------------  ----- \n",
      " 0   url     1245 non-null   object\n",
      " 1   text    1245 non-null   object\n",
      "dtypes: object(2)\n",
      "memory usage: 19.6+ KB\n"
     ]
    }
   ],
   "source": [
    "df = pd.DataFrame(corpus, columns=[\"url\", \"text\"])\n",
    "df[\"text\"] = df[\"text\"].apply(clean_text)\n",
    "df[\"text_length\"] = df[\"text\"].apply(len)\n",
    "df = df[df.text_length > 200]\n",
    "df = df.drop_duplicates(subset=[\"text\"])\n",
    "df.drop(columns=[\"text_length\"], inplace=True)\n",
    "df.reset_index(drop=True, inplace=True)\n",
    "df.to_parquet(f\"{INPUT_DIR}zh_news.parq\")\n",
    "df.info()"
   ]
  }
 ],
 "metadata": {
  "kernelspec": {
   "display_name": "std",
   "language": "python",
   "name": "python3"
  },
  "language_info": {
   "codemirror_mode": {
    "name": "ipython",
    "version": 3
   },
   "file_extension": ".py",
   "mimetype": "text/x-python",
   "name": "python",
   "nbconvert_exporter": "python",
   "pygments_lexer": "ipython3",
   "version": "3.9.19"
  }
 },
 "nbformat": 4,
 "nbformat_minor": 2
}
