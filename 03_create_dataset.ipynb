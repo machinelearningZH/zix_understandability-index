{
 "cells": [
  {
   "cell_type": "markdown",
   "metadata": {},
   "source": [
    "# Create final dataset"
   ]
  },
  {
   "cell_type": "markdown",
   "metadata": {},
   "source": [
    "Now we put all data together:\n",
    "- Synthetic text data A1 to C2\n",
    "- Administrative news bulletins\n",
    "- Legal decisions from one of the [cantonal courts](https://www.baurekursgericht-zh.ch/). \n",
    "- Decisions of the Cantonal Council ([«Regierungsratsbeschlüsse»](https://www.zh.ch/de/politik-staat/gesetze-beschluesse/beschluesse-des-regierungsrates.html))."
   ]
  },
  {
   "cell_type": "markdown",
   "metadata": {},
   "source": [
    "**Imports**"
   ]
  },
  {
   "cell_type": "code",
   "execution_count": 2,
   "metadata": {},
   "outputs": [
    {
     "name": "stdout",
     "output_type": "stream",
     "text": [
      "INFO: Pandarallel will run on 12 workers.\n",
      "INFO: Pandarallel will use standard multiprocessing data transfer (pipe) to transfer data between the main process and workers.\n"
     ]
    }
   ],
   "source": [
    "import pandas as pd\n",
    "from pandarallel import pandarallel\n",
    "import warnings\n",
    "import spacy\n",
    "\n",
    "nlp = spacy.load(\"de_core_news_sm\")\n",
    "\n",
    "pd.options.mode.chained_assignment = None\n",
    "pd.options.display.max_rows = 500\n",
    "pd.options.display.max_seq_items = 500\n",
    "pandarallel.initialize(progress_bar=False)\n",
    "warnings.simplefilter(\"ignore\", category=UserWarning)"
   ]
  },
  {
   "cell_type": "markdown",
   "metadata": {},
   "source": [
    "**Constants and functions**"
   ]
  },
  {
   "cell_type": "code",
   "execution_count": 3,
   "metadata": {},
   "outputs": [],
   "source": [
    "INPUT_DIR = \"_input/\"\n",
    "\n",
    "N_SAMPLES = 720"
   ]
  },
  {
   "cell_type": "markdown",
   "metadata": {},
   "source": [
    "# Load and concat data"
   ]
  },
  {
   "cell_type": "markdown",
   "metadata": {},
   "source": [
    "### Administrative news bulletins"
   ]
  },
  {
   "cell_type": "code",
   "execution_count": 15,
   "metadata": {},
   "outputs": [
    {
     "name": "stdout",
     "output_type": "stream",
     "text": [
      "(720, 3)\n"
     ]
    },
    {
     "data": {
      "text/html": [
       "<div>\n",
       "<style scoped>\n",
       "    .dataframe tbody tr th:only-of-type {\n",
       "        vertical-align: middle;\n",
       "    }\n",
       "\n",
       "    .dataframe tbody tr th {\n",
       "        vertical-align: top;\n",
       "    }\n",
       "\n",
       "    .dataframe thead th {\n",
       "        text-align: right;\n",
       "    }\n",
       "</style>\n",
       "<table border=\"1\" class=\"dataframe\">\n",
       "  <thead>\n",
       "    <tr style=\"text-align: right;\">\n",
       "      <th></th>\n",
       "      <th>text_type</th>\n",
       "      <th>text</th>\n",
       "      <th>text_length</th>\n",
       "    </tr>\n",
       "  </thead>\n",
       "  <tbody>\n",
       "    <tr>\n",
       "      <th>560</th>\n",
       "      <td>Admin News</td>\n",
       "      <td>Mehrere unbekannte Personen haben am Sonntagab...</td>\n",
       "      <td>137</td>\n",
       "    </tr>\n",
       "    <tr>\n",
       "      <th>997</th>\n",
       "      <td>Admin News</td>\n",
       "      <td>Ein Radfahrer hat sich am frühen Montagnachmit...</td>\n",
       "      <td>131</td>\n",
       "    </tr>\n",
       "    <tr>\n",
       "      <th>262</th>\n",
       "      <td>Admin News</td>\n",
       "      <td>Bei einer Hausdurchsuchung hat die Kantonspoli...</td>\n",
       "      <td>254</td>\n",
       "    </tr>\n",
       "    <tr>\n",
       "      <th>381</th>\n",
       "      <td>Admin News</td>\n",
       "      <td>Die Kantonsarchäologie hat im Furttal erstmals...</td>\n",
       "      <td>412</td>\n",
       "    </tr>\n",
       "    <tr>\n",
       "      <th>925</th>\n",
       "      <td>Admin News</td>\n",
       "      <td>Bei einem Selbstunfall sind am Samstagnachmitt...</td>\n",
       "      <td>162</td>\n",
       "    </tr>\n",
       "  </tbody>\n",
       "</table>\n",
       "</div>"
      ],
      "text/plain": [
       "      text_type                                               text  \\\n",
       "560  Admin News  Mehrere unbekannte Personen haben am Sonntagab...   \n",
       "997  Admin News  Ein Radfahrer hat sich am frühen Montagnachmit...   \n",
       "262  Admin News  Bei einer Hausdurchsuchung hat die Kantonspoli...   \n",
       "381  Admin News  Die Kantonsarchäologie hat im Furttal erstmals...   \n",
       "925  Admin News  Bei einem Selbstunfall sind am Samstagnachmitt...   \n",
       "\n",
       "     text_length  \n",
       "560          137  \n",
       "997          131  \n",
       "262          254  \n",
       "381          412  \n",
       "925          162  "
      ]
     },
     "metadata": {},
     "output_type": "display_data"
    }
   ],
   "source": [
    "admin = pd.read_parquet(f\"{INPUT_DIR}zh_news.parq\")\n",
    "admin.drop(columns=[\"url\"], inplace=True)\n",
    "admin = admin.melt()\n",
    "admin.rename(columns={\"variable\": \"text_type\", \"value\": \"text\"}, inplace=True)\n",
    "admin.text_type = admin.text_type.map({\"text\": \"Admin News\"})\n",
    "assert admin.text.duplicated().sum() == 0\n",
    "admin[\"text_length\"] = admin.text.apply(lambda x: len(x.split()))\n",
    "admin = admin[admin.text_length > 100]\n",
    "admin = admin[admin.text_length < 500]\n",
    "\n",
    "admin = admin.sample(N_SAMPLES, random_state=42)\n",
    "print(admin.shape)\n",
    "display(admin.head())"
   ]
  },
  {
   "cell_type": "markdown",
   "metadata": {},
   "source": [
    "### Legal decisions Baurekursgericht"
   ]
  },
  {
   "cell_type": "code",
   "execution_count": 9,
   "metadata": {},
   "outputs": [
    {
     "data": {
      "text/html": [
       "<div>\n",
       "<style scoped>\n",
       "    .dataframe tbody tr th:only-of-type {\n",
       "        vertical-align: middle;\n",
       "    }\n",
       "\n",
       "    .dataframe tbody tr th {\n",
       "        vertical-align: top;\n",
       "    }\n",
       "\n",
       "    .dataframe thead th {\n",
       "        text-align: right;\n",
       "    }\n",
       "</style>\n",
       "<table border=\"1\" class=\"dataframe\">\n",
       "  <thead>\n",
       "    <tr style=\"text-align: right;\">\n",
       "      <th></th>\n",
       "      <th>text_type</th>\n",
       "      <th>text</th>\n",
       "      <th>text_length</th>\n",
       "    </tr>\n",
       "  </thead>\n",
       "  <tbody>\n",
       "    <tr>\n",
       "      <th>0</th>\n",
       "      <td>Legal</td>\n",
       "      <td>2613 jenseits der Strasse errichteten Gebäudes...</td>\n",
       "      <td>119</td>\n",
       "    </tr>\n",
       "    <tr>\n",
       "      <th>1</th>\n",
       "      <td>Legal</td>\n",
       "      <td>Wie sich aus den einschlägigen Bestimmungen de...</td>\n",
       "      <td>410</td>\n",
       "    </tr>\n",
       "    <tr>\n",
       "      <th>2</th>\n",
       "      <td>Legal</td>\n",
       "      <td>a-d PBG grundsätzlich nicht mehr möglich. Sie ...</td>\n",
       "      <td>350</td>\n",
       "    </tr>\n",
       "    <tr>\n",
       "      <th>3</th>\n",
       "      <td>Legal</td>\n",
       "      <td>Die Rekurrentin ist Gebührenschuldnerin, aber ...</td>\n",
       "      <td>443</td>\n",
       "    </tr>\n",
       "    <tr>\n",
       "      <th>4</th>\n",
       "      <td>Legal</td>\n",
       "      <td>BRKE III Nr. 281 und 282/1991 vom 18. Dezember...</td>\n",
       "      <td>464</td>\n",
       "    </tr>\n",
       "  </tbody>\n",
       "</table>\n",
       "</div>"
      ],
      "text/plain": [
       "  text_type                                               text  text_length\n",
       "0     Legal  2613 jenseits der Strasse errichteten Gebäudes...          119\n",
       "1     Legal  Wie sich aus den einschlägigen Bestimmungen de...          410\n",
       "2     Legal  a-d PBG grundsätzlich nicht mehr möglich. Sie ...          350\n",
       "3     Legal  Die Rekurrentin ist Gebührenschuldnerin, aber ...          443\n",
       "4     Legal  BRKE III Nr. 281 und 282/1991 vom 18. Dezember...          464"
      ]
     },
     "metadata": {},
     "output_type": "display_data"
    },
    {
     "data": {
      "text/plain": [
       "(720, 3)"
      ]
     },
     "execution_count": 9,
     "metadata": {},
     "output_type": "execute_result"
    }
   ],
   "source": [
    "legal = pd.read_parquet(f\"{INPUT_DIR}legal.parq\")\n",
    "display(legal.head())\n",
    "legal.shape"
   ]
  },
  {
   "cell_type": "markdown",
   "metadata": {},
   "source": [
    "### Decisions cantonal council (RRBs)"
   ]
  },
  {
   "cell_type": "code",
   "execution_count": 12,
   "metadata": {},
   "outputs": [
    {
     "data": {
      "text/html": [
       "<div>\n",
       "<style scoped>\n",
       "    .dataframe tbody tr th:only-of-type {\n",
       "        vertical-align: middle;\n",
       "    }\n",
       "\n",
       "    .dataframe tbody tr th {\n",
       "        vertical-align: top;\n",
       "    }\n",
       "\n",
       "    .dataframe thead th {\n",
       "        text-align: right;\n",
       "    }\n",
       "</style>\n",
       "<table border=\"1\" class=\"dataframe\">\n",
       "  <thead>\n",
       "    <tr style=\"text-align: right;\">\n",
       "      <th></th>\n",
       "      <th>text</th>\n",
       "      <th>text_type</th>\n",
       "    </tr>\n",
       "  </thead>\n",
       "  <tbody>\n",
       "    <tr>\n",
       "      <th>0</th>\n",
       "      <td>Auszug aus dem Protokoll des Regierungsrates d...</td>\n",
       "      <td>RRBs</td>\n",
       "    </tr>\n",
       "    <tr>\n",
       "      <th>1</th>\n",
       "      <td>Auszug aus dem Protokoll des Regierungsrates d...</td>\n",
       "      <td>RRBs</td>\n",
       "    </tr>\n",
       "    <tr>\n",
       "      <th>2</th>\n",
       "      <td>Auszug aus dem Protokoll des Regierungsrates d...</td>\n",
       "      <td>RRBs</td>\n",
       "    </tr>\n",
       "    <tr>\n",
       "      <th>3</th>\n",
       "      <td>Auszug aus dem Protokoll des Regierungsrates d...</td>\n",
       "      <td>RRBs</td>\n",
       "    </tr>\n",
       "    <tr>\n",
       "      <th>4</th>\n",
       "      <td>Auszug aus dem Protokoll des Regierungsrates d...</td>\n",
       "      <td>RRBs</td>\n",
       "    </tr>\n",
       "  </tbody>\n",
       "</table>\n",
       "</div>"
      ],
      "text/plain": [
       "                                                text text_type\n",
       "0  Auszug aus dem Protokoll des Regierungsrates d...      RRBs\n",
       "1  Auszug aus dem Protokoll des Regierungsrates d...      RRBs\n",
       "2  Auszug aus dem Protokoll des Regierungsrates d...      RRBs\n",
       "3  Auszug aus dem Protokoll des Regierungsrates d...      RRBs\n",
       "4  Auszug aus dem Protokoll des Regierungsrates d...      RRBs"
      ]
     },
     "metadata": {},
     "output_type": "display_data"
    },
    {
     "data": {
      "text/plain": [
       "(720, 2)"
      ]
     },
     "execution_count": 12,
     "metadata": {},
     "output_type": "execute_result"
    }
   ],
   "source": [
    "rrbs = pd.read_parquet(f\"{INPUT_DIR}rrbs.parq\")\n",
    "display(rrbs.head())\n",
    "rrbs.shape"
   ]
  },
  {
   "cell_type": "markdown",
   "metadata": {},
   "source": [
    "### Synthetic CEFR samples"
   ]
  },
  {
   "cell_type": "code",
   "execution_count": 13,
   "metadata": {},
   "outputs": [
    {
     "name": "stdout",
     "output_type": "stream",
     "text": [
      "(4320, 2)\n"
     ]
    },
    {
     "data": {
      "text/html": [
       "<div>\n",
       "<style scoped>\n",
       "    .dataframe tbody tr th:only-of-type {\n",
       "        vertical-align: middle;\n",
       "    }\n",
       "\n",
       "    .dataframe tbody tr th {\n",
       "        vertical-align: top;\n",
       "    }\n",
       "\n",
       "    .dataframe thead th {\n",
       "        text-align: right;\n",
       "    }\n",
       "</style>\n",
       "<table border=\"1\" class=\"dataframe\">\n",
       "  <thead>\n",
       "    <tr style=\"text-align: right;\">\n",
       "      <th></th>\n",
       "      <th>text_type</th>\n",
       "      <th>text</th>\n",
       "    </tr>\n",
       "  </thead>\n",
       "  <tbody>\n",
       "    <tr>\n",
       "      <th>0</th>\n",
       "      <td>A1</td>\n",
       "      <td>Ein Mann geht auf der Straße. Er sieht eine Ka...</td>\n",
       "    </tr>\n",
       "    <tr>\n",
       "      <th>1</th>\n",
       "      <td>A1</td>\n",
       "      <td>Max arbeitet im Büro. Er schreibt an einem Dok...</td>\n",
       "    </tr>\n",
       "    <tr>\n",
       "      <th>2</th>\n",
       "      <td>A1</td>\n",
       "      <td>Heute Morgen bin ich zur Arbeit gegangen. Ich ...</td>\n",
       "    </tr>\n",
       "    <tr>\n",
       "      <th>3</th>\n",
       "      <td>A1</td>\n",
       "      <td>Der Arbeiter hält einen Hammer. Er baut ein Ha...</td>\n",
       "    </tr>\n",
       "    <tr>\n",
       "      <th>4</th>\n",
       "      <td>A1</td>\n",
       "      <td>Zwei Freunde treffen sich im Park. Der eine fr...</td>\n",
       "    </tr>\n",
       "  </tbody>\n",
       "</table>\n",
       "</div>"
      ],
      "text/plain": [
       "  text_type                                               text\n",
       "0        A1  Ein Mann geht auf der Straße. Er sieht eine Ka...\n",
       "1        A1  Max arbeitet im Büro. Er schreibt an einem Dok...\n",
       "2        A1  Heute Morgen bin ich zur Arbeit gegangen. Ich ...\n",
       "3        A1  Der Arbeiter hält einen Hammer. Er baut ein Ha...\n",
       "4        A1  Zwei Freunde treffen sich im Park. Der eine fr..."
      ]
     },
     "execution_count": 13,
     "metadata": {},
     "output_type": "execute_result"
    }
   ],
   "source": [
    "cefr = pd.read_parquet(f\"{INPUT_DIR}cefr_synthetic.parq\")\n",
    "cefr = cefr.melt(id_vars=[\"model\"], value_vars=[\"A1\", \"A2\", \"B1\", \"B2\", \"C1\", \"C2\"])\n",
    "cefr.columns = [\"model\", \"text_type\", \"text\"]\n",
    "\n",
    "cefr.reset_index(drop=True, inplace=True)\n",
    "cefr.drop(columns=[\"model\"], inplace=True)\n",
    "print(cefr.shape)\n",
    "cefr.head()"
   ]
  },
  {
   "cell_type": "code",
   "execution_count": 17,
   "metadata": {},
   "outputs": [
    {
     "data": {
      "text/plain": [
       "text_type\n",
       "Admin News    720\n",
       "Legal         720\n",
       "RRBs          720\n",
       "A1            720\n",
       "A2            720\n",
       "B1            720\n",
       "B2            720\n",
       "C1            720\n",
       "C2            720\n",
       "Name: count, dtype: int64"
      ]
     },
     "execution_count": 17,
     "metadata": {},
     "output_type": "execute_result"
    }
   ],
   "source": [
    "df = pd.concat([admin, legal, rrbs, cefr])\n",
    "df.reset_index(drop=True, inplace=True)\n",
    "df = df[[\"text_type\", \"text\"]]\n",
    "df.to_parquet(f\"{INPUT_DIR}/zix_dataset.parq\")\n",
    "df.text_type.value_counts()"
   ]
  },
  {
   "cell_type": "markdown",
   "metadata": {},
   "source": [
    "# Inspect standard CEFR vocabulary"
   ]
  },
  {
   "cell_type": "markdown",
   "metadata": {},
   "source": [
    "The [Goethe Institute](https://www.goethe.de) provides standard CEFR vocabularies for levels A1, A2 and B2.\n",
    "\n",
    "The source PDFs are available here:\n",
    "- [Level A1](https://www.goethe.de/pro/relaunch/prf/de/A1_SD1_Wortliste_02.pdf)\n",
    "- [Level A2](https://www.goethe.de/pro/relaunch/prf/en/Goethe-Zertifikat_A2_Wortliste.pdf)\n",
    "- and [Level B2](https://www.goethe.de/pro/relaunch/prf/en/Goethe-Zertifikat_B1_Wortliste.pdf).\n",
    "\n",
    "We'll check how much of the words in a given text overlap with these vocabularies."
   ]
  },
  {
   "cell_type": "code",
   "execution_count": 11,
   "metadata": {},
   "outputs": [],
   "source": [
    "nlp = spacy.load(\"de_core_news_sm\")\n",
    "\n",
    "\n",
    "def lemmatize_text(text, swiss=False):\n",
    "    doc = nlp(text)\n",
    "    tokens = [token.lemma_ for token in doc if token.is_alpha]\n",
    "    tokens = [x.lower() for x in tokens]\n",
    "    if swiss:\n",
    "        tokens = [x.replace(\"ß\", \"ss\") for x in tokens]\n",
    "    return \" \".join(tokens)"
   ]
  },
  {
   "cell_type": "code",
   "execution_count": 12,
   "metadata": {},
   "outputs": [
    {
     "data": {
      "text/plain": [
       "level\n",
       "A1     807\n",
       "A2     607\n",
       "B1    1803\n",
       "Name: count, dtype: int64"
      ]
     },
     "execution_count": 12,
     "metadata": {},
     "output_type": "execute_result"
    }
   ],
   "source": [
    "cefr = pd.read_parquet(f\"zix/data/cefr_vocab.parq\")\n",
    "cefr.level.value_counts().sort_index()"
   ]
  },
  {
   "cell_type": "code",
   "execution_count": 13,
   "metadata": {},
   "outputs": [],
   "source": [
    "# Simple text.\n",
    "text = \"\"\"Der Bund fragt Leute, bevor er neue Gesetze macht. Er will wissen, ob die Ideen gut sind. Der Bund fragt die Kantone, Parteien und Verbände. Er will von ihnen hören. Die Verbände sind von Gemeinden, Städten und Bergen. Auch von der Wirtschaft. Manchmal fragt der Bund auch andere Leute. Der Bund will sicherstellen, dass die Ideen richtig sind. Und dass sie umgesetzt werden können. Er will auch wissen, ob die Leute damit einverstanden sind.\"\"\"\n",
    "\n",
    "# Complex text.\n",
    "text = \"\"\"Als Vernehmlassungsverfahren wird diejenige Phase innerhalb des Vorverfahrens der Gesetzgebung bezeichnet, in der Vorhaben des Bundes von erheblicher politischer, finanzieller, wirtschaftlicher, ökologischer, sozialer oder kultureller Tragweite auf ihre sachliche Richtigkeit, Vollzugstauglichkeit und Akzeptanz hin geprüft werden. Die Vorlage wird zu diesem Zweck den Kantonen, den in der Bundesversammlung vertretenen Parteien, den Dachverbänden der Gemeinden, Städte und der Berggebiete, den Dachverbänden der Wirtschaft sowie weiteren, im Einzelfall interessierten Kreisen unterbreitet.\"\"\""
   ]
  },
  {
   "cell_type": "code",
   "execution_count": 14,
   "metadata": {},
   "outputs": [],
   "source": [
    "tokens = list(map(lemmatize_text, text.split(\" \")))"
   ]
  },
  {
   "cell_type": "code",
   "execution_count": 15,
   "metadata": {},
   "outputs": [
    {
     "name": "stdout",
     "output_type": "stream",
     "text": [
      "A1: 42.03%\n",
      "A2: 5.80%\n",
      "B1: 17.39%\n",
      "\n",
      "Words not in CEFR:\n",
      "['akzeptanz', 'berggebiet', 'bezeichnen', 'bund', 'bundesversammlung', 'dachverbände', 'derjenige', 'einzelfall', 'erheblich', 'gemeinde', 'gesetzgebung', 'kantone', 'partei', 'phase', 'richtigkeit', 'sachlich', 'sowie', 'tragweit', 'unterbreiten', 'vernehmlassungsverfahr', 'vollzugstauglichkeit', 'vorlage', 'vorverfahren', 'wirtschaftlich']\n"
     ]
    }
   ],
   "source": [
    "a1_tokens = [x for x in tokens if x in cefr[cefr.level == \"A1\"].lemma.values]\n",
    "a2_tokens = [x for x in tokens if x in cefr[cefr.level == \"A2\"].lemma.values]\n",
    "b1_tokens = [x for x in tokens if x in cefr[cefr.level == \"B1\"].lemma.values]\n",
    "\n",
    "not_in_cefr = [x for x in tokens if x not in cefr.lemma.values]\n",
    "\n",
    "a1_share = len(a1_tokens) / len(tokens)\n",
    "a2_share = len(a2_tokens) / len(tokens)\n",
    "b1_share = len(b1_tokens) / len(tokens)\n",
    "\n",
    "print(f\"A1: {a1_share:.2%}\")\n",
    "print(f\"A2: {a2_share:.2%}\")\n",
    "print(f\"B1: {b1_share:.2%}\")\n",
    "print()\n",
    "\n",
    "print(f\"Words not in CEFR:\\n{sorted(set(not_in_cefr))}\")"
   ]
  }
 ],
 "metadata": {
  "kernelspec": {
   "display_name": "std",
   "language": "python",
   "name": "python3"
  },
  "language_info": {
   "codemirror_mode": {
    "name": "ipython",
    "version": 3
   },
   "file_extension": ".py",
   "mimetype": "text/x-python",
   "name": "python",
   "nbconvert_exporter": "python",
   "pygments_lexer": "ipython3",
   "version": "3.9.19"
  }
 },
 "nbformat": 4,
 "nbformat_minor": 2
}
