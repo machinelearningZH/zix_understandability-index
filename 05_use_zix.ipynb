{
 "cells": [
  {
   "cell_type": "markdown",
   "metadata": {},
   "source": [
    "# Use the ZIX understandability index"
   ]
  },
  {
   "cell_type": "code",
   "execution_count": 1,
   "metadata": {},
   "outputs": [
    {
     "name": "stdout",
     "output_type": "stream",
     "text": [
      "The text has an understandability score of: -2.3\n",
      "The text has a CEFR level of roughly: C1\n"
     ]
    }
   ],
   "source": [
    "from zix.understandability import get_zix, get_cefr\n",
    "\n",
    "text = \"\"\"Die Schweiz, amtlich Schweizerische Eidgenossenschaft, ist ein föderalistischer, demokratischer Staat in Mitteleuropa. Er grenzt im Norden an Deutschland, im Osten an Österreich und Liechtenstein, im Süden an Italien und im Westen an Frankreich.\"\"\"\n",
    "zix_score = get_zix(text)\n",
    "cefr = get_cefr(zix_score)\n",
    "print(f\"The text has an understandability score of: {zix_score:.1f}\")\n",
    "print(f\"The text has a CEFR level of roughly: {cefr}\")"
   ]
  }
 ],
 "metadata": {
  "kernelspec": {
   "display_name": "std",
   "language": "python",
   "name": "python3"
  },
  "language_info": {
   "codemirror_mode": {
    "name": "ipython",
    "version": 3
   },
   "file_extension": ".py",
   "mimetype": "text/x-python",
   "name": "python",
   "nbconvert_exporter": "python",
   "pygments_lexer": "ipython3",
   "version": "3.9.19"
  }
 },
 "nbformat": 4,
 "nbformat_minor": 2
}
